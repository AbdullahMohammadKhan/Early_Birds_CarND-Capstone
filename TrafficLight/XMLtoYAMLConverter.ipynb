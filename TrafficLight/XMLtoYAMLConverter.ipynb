{
 "cells": [
  {
   "cell_type": "code",
   "execution_count": 1,
   "metadata": {
    "collapsed": true
   },
   "outputs": [],
   "source": [
    "import xmltodict\n",
    "import os"
   ]
  },
  {
   "cell_type": "code",
   "execution_count": 2,
   "metadata": {
    "collapsed": true
   },
   "outputs": [],
   "source": [
    "def GenFileYAML(filename):\n",
    "    with open(filename) as fd:\n",
    "        doc = xmltodict.parse(fd.read())\n",
    "        root = doc['annotation']\n",
    "        filename = root['path'][83:]\n",
    "\n",
    "        items = []\n",
    "        for obj in root['object']:\n",
    "            bndbox = obj['bndbox']\n",
    "            xmin = int(bndbox['xmin'])\n",
    "            ymin = int(bndbox['ymin'])\n",
    "            x_width = int(bndbox['xmax']) - xmin\n",
    "            y_height = int(bndbox['ymax']) - ymin\n",
    "            classtype = str(obj['name'])\n",
    "\n",
    "            item = {}\n",
    "            item['class'] = classtype\n",
    "            item['x_width'] = x_width\n",
    "            item['xmin'] = xmin\n",
    "            item['y_height'] = y_height\n",
    "            item['ymin'] = ymin\n",
    "\n",
    "            items.append(item)\n",
    "\n",
    "        mystr = '- annotations:\\n'\n",
    "        for i in items:\n",
    "            mystr += '  - {class: ' + item['class']\n",
    "            mystr += ', x_width: ' + str(item['x_width'])\n",
    "            mystr += ', xmin: ' + str(item['xmin'])\n",
    "            mystr += ', y_height: ' + str(item['y_height'])\n",
    "            mystr += ', ymin: ' + str(item['ymin'])\n",
    "            mystr += '}\\n'\n",
    "        mystr +='  class: image\\n'\n",
    "        mystr +='  filename: ' + filename\n",
    "        return mystr"
   ]
  },
  {
   "cell_type": "code",
   "execution_count": 3,
   "metadata": {},
   "outputs": [
    {
     "name": "stdout",
     "output_type": "stream",
     "text": [
      "- annotations:\n",
      "  - {class: Yellow, x_width: 55, xmin: 575, y_height: 123, ymin: 291}\n",
      "  - {class: Yellow, x_width: 55, xmin: 575, y_height: 123, ymin: 291}\n",
      "  - {class: Yellow, x_width: 55, xmin: 575, y_height: 123, ymin: 291}\n",
      "  class: image\n",
      "  filename: sim_data_capture/image10883.jpg\n",
      "- annotations:\n",
      "  - {class: Red, x_width: 73, xmin: 646, y_height: 168, ymin: 167}\n",
      "  - {class: Red, x_width: 73, xmin: 646, y_height: 168, ymin: 167}\n",
      "  - {class: Red, x_width: 73, xmin: 646, y_height: 168, ymin: 167}\n",
      "  class: image\n",
      "  filename: sim_data_capture/image05492.jpg\n",
      "- annotations:\n",
      "  - {class: Yellow, x_width: 46, xmin: 451, y_height: 102, ymin: 368}\n",
      "  - {class: Yellow, x_width: 46, xmin: 451, y_height: 102, ymin: 368}\n",
      "  - {class: Yellow, x_width: 46, xmin: 451, y_height: 102, ymin: 368}\n",
      "  class: image\n",
      "  filename: sim_data_capture/image02469.jpg\n"
     ]
    }
   ],
   "source": [
    "path = '/home/sachit/Downloads/TrafficLight_Detection-TensorFlowAPI/data/sim_training_data/sim_data_capture/'\n",
    "for filename in os.listdir(path):\n",
    "    if filename.endswith('.xml'):\n",
    "        s = GenFileYAML(path + filename)\n",
    "        print(s)"
   ]
  },
  {
   "cell_type": "code",
   "execution_count": null,
   "metadata": {
    "collapsed": true
   },
   "outputs": [],
   "source": []
  }
 ],
 "metadata": {
  "kernelspec": {
   "display_name": "Python 2",
   "language": "python",
   "name": "python2"
  },
  "language_info": {
   "codemirror_mode": {
    "name": "ipython",
    "version": 2
   },
   "file_extension": ".py",
   "mimetype": "text/x-python",
   "name": "python",
   "nbconvert_exporter": "python",
   "pygments_lexer": "ipython2",
   "version": "2.7.12"
  }
 },
 "nbformat": 4,
 "nbformat_minor": 2
}
